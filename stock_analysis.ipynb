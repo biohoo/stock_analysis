{
 "cells": [
  {
   "cell_type": "code",
   "execution_count": 2,
   "metadata": {},
   "outputs": [
    {
     "name": "stdout",
     "output_type": "stream",
     "text": [
      "Requirement already satisfied: seaborn in /Users/jonathanrice/anaconda3/lib/python3.6/site-packages (0.11.0)\n",
      "Requirement already satisfied: matplotlib>=2.2 in /Users/jonathanrice/anaconda3/lib/python3.6/site-packages (from seaborn) (3.3.2)\n",
      "Requirement already satisfied: pandas>=0.23 in /Users/jonathanrice/anaconda3/lib/python3.6/site-packages (from seaborn) (1.1.3)\n",
      "Requirement already satisfied: scipy>=1.0 in /Users/jonathanrice/anaconda3/lib/python3.6/site-packages (from seaborn) (1.5.2)\n",
      "Requirement already satisfied: numpy>=1.15 in /Users/jonathanrice/anaconda3/lib/python3.6/site-packages (from seaborn) (1.19.1)\n",
      "Requirement already satisfied: pillow>=6.2.0 in /Users/jonathanrice/anaconda3/lib/python3.6/site-packages (from matplotlib>=2.2->seaborn) (7.2.0)\n",
      "Requirement already satisfied: pyparsing!=2.0.4,!=2.1.2,!=2.1.6,>=2.0.3 in /Users/jonathanrice/anaconda3/lib/python3.6/site-packages (from matplotlib>=2.2->seaborn) (2.4.7)\n",
      "Requirement already satisfied: cycler>=0.10 in /Users/jonathanrice/anaconda3/lib/python3.6/site-packages (from matplotlib>=2.2->seaborn) (0.10.0)\n",
      "Requirement already satisfied: kiwisolver>=1.0.1 in /Users/jonathanrice/anaconda3/lib/python3.6/site-packages (from matplotlib>=2.2->seaborn) (1.2.0)\n",
      "Requirement already satisfied: certifi>=2020.06.20 in /Users/jonathanrice/anaconda3/lib/python3.6/site-packages (from matplotlib>=2.2->seaborn) (2020.6.20)\n",
      "Requirement already satisfied: python-dateutil>=2.1 in /Users/jonathanrice/anaconda3/lib/python3.6/site-packages (from matplotlib>=2.2->seaborn) (2.8.1)\n",
      "Requirement already satisfied: pytz>=2017.2 in /Users/jonathanrice/anaconda3/lib/python3.6/site-packages (from pandas>=0.23->seaborn) (2020.1)\n",
      "Requirement already satisfied: six in /Users/jonathanrice/anaconda3/lib/python3.6/site-packages (from cycler>=0.10->matplotlib>=2.2->seaborn) (1.15.0)\n"
     ]
    }
   ],
   "source": [
    "!pip install seaborn\n",
    "\n",
    "from ipyaggrid import Grid\n",
    "import pandas as pd\n",
    "from IPython.display import display\n",
    "import numpy as np\n",
    "import seaborn as sns\n",
    "import matplotlib.pyplot as plt\n",
    "from functools import reduce\n",
    "import numpy as np\n",
    "\n",
    "import matplotlib.pyplot as plt\n",
    "import squarify    # pip install squarify (algorithm for treemap)\n",
    "\n",
    "# Making Pandas display more than a few rows and columns at a time by default.\n",
    "# Surprising that Pandas doesn't fix this by now...\n",
    "pd.set_option('display.max_rows', 500)"
   ]
  },
  {
   "cell_type": "code",
   "execution_count": 3,
   "metadata": {},
   "outputs": [],
   "source": [
    "# Importing dataframes from their sources\n",
    "\n",
    "dfm_fool = pd.read_csv('results/fool.csv')\n",
    "dfm_zacks = pd.read_csv('results/zacks.csv')"
   ]
  },
  {
   "cell_type": "code",
   "execution_count": 4,
   "metadata": {},
   "outputs": [],
   "source": [
    "# Aggrid settings\n",
    "\n",
    "grid_options = {\n",
    "    #'columnDefs' : column_defs,\n",
    "    'enableSorting': True,\n",
    "    'enableFilter': True,\n",
    "    'enableColResize': True,\n",
    "    'enableRangeSelection': True,\n",
    "     'enableCharts': True\n",
    "}"
   ]
  },
  {
   "cell_type": "code",
   "execution_count": 5,
   "metadata": {},
   "outputs": [],
   "source": [
    "def make_aggrid(df):\n",
    "    grid_options = {\n",
    "    #'columnDefs' : column_defs,\n",
    "    'enableSorting': True,\n",
    "    'enableFilter': True,\n",
    "    'enableColResize': True,\n",
    "    'enableRangeSelection': True,\n",
    "}\n",
    "    g = Grid(grid_data=df,\n",
    "         grid_options=grid_options,\n",
    "         quick_filter=True,\n",
    "         show_toggle_edit=True,\n",
    "         export_mode=\"buttons\",\n",
    "         export_csv=True,\n",
    "         export_excel=True,\n",
    "         theme='ag-theme-balham',\n",
    "         show_toggle_delete=True,\n",
    "         columns_fit='auto',\n",
    "         index=False,\n",
    "         keep_multiindex=False)\n",
    "    return g"
   ]
  },
  {
   "cell_type": "code",
   "execution_count": 6,
   "metadata": {},
   "outputs": [],
   "source": [
    "# Creating an instance of an Ag grid.\n",
    "\n",
    "g = Grid(grid_data=dfm_fool,\n",
    "         grid_options=grid_options,\n",
    "         quick_filter=True,\n",
    "         show_toggle_edit=True,\n",
    "         export_mode=\"buttons\",\n",
    "         export_csv=True,\n",
    "         export_excel=True,\n",
    "         theme='ag-theme-balham',\n",
    "         show_toggle_delete=True,\n",
    "         columns_fit='auto',\n",
    "         index=False,\n",
    "         keep_multiindex=False)\n"
   ]
  },
  {
   "cell_type": "code",
   "execution_count": 7,
   "metadata": {},
   "outputs": [
    {
     "name": "stdout",
     "output_type": "stream",
     "text": [
      "['Unnamed: 0', 'zacks_consensus', 'zacks_URL']\n",
      "['Unnamed: 0', 'fool_rating', 'fool_url']\n"
     ]
    }
   ],
   "source": [
    "print(dfm_zacks.columns.tolist())\n",
    "print(dfm_fool.columns.tolist())"
   ]
  },
  {
   "cell_type": "code",
   "execution_count": 8,
   "metadata": {},
   "outputs": [],
   "source": [
    "# Splitting out the symbol (since the original summary files didn't contain it...)\n",
    "# Makes the table join below possible.\n",
    "\n",
    "new_fool_url = dfm_fool['fool_url'].str.split('/',expand=True)\n",
    "new_zacks_url = dfm_zacks['zacks_URL'].str.split('/', expand=True)\n",
    "\n",
    "\n",
    "dfm_fool['symbol'] = new_fool_url[4]\n",
    "dfm_zacks['symbol'] = new_zacks_url[5]"
   ]
  },
  {
   "cell_type": "code",
   "execution_count": 9,
   "metadata": {},
   "outputs": [
    {
     "name": "stdout",
     "output_type": "stream",
     "text": [
      "Index(['Symbol', 'Name', 'LastSale', 'MarketCap', 'IPOyear', 'Sector',\n",
      "       'industry', 'Summary Quote', 'Unnamed: 8'],\n",
      "      dtype='object')\n"
     ]
    }
   ],
   "source": [
    "# left join results into reference source (the dow jones company list)\n",
    "\n",
    "all_stocks = pd.read_csv('companylist.csv')\n",
    "print(all_stocks.columns)\n",
    "\n",
    "# Displaying all columns (since ag grid does some weird capitalization when displaying.)\n",
    "all_stocks.columns = map(str.lower, all_stocks.columns)\n"
   ]
  },
  {
   "cell_type": "code",
   "execution_count": 10,
   "metadata": {},
   "outputs": [],
   "source": [
    "dfs = [all_stocks, dfm_fool, dfm_zacks]\n",
    "\n",
    "# Join from above on symbol\n",
    "df_final = reduce(lambda left,right: pd.merge(left,right,on='symbol'), dfs)\n",
    "\n",
    "# Convert Marketcap string to integer\n",
    "\n",
    "df_final['marketcap'] = df_final['marketcap'].str[1:]\n",
    "df_final['marketcap_multiplier'] = df_final['marketcap'].str[-1]\n",
    "df_final['marketcap'] = df_final['marketcap'].str[:-1]\n",
    "\n",
    "\n",
    "# Re-casting this column is done in-place.  Be careful about the column matches.\n",
    "# Note that I had to continuously operate on the new calcualated column after the second replacement.\n",
    "\n",
    "df_final['marketcap_multiplier_int'] = df_final['marketcap_multiplier'].replace('M',1000000)\n",
    "df_final['marketcap_multiplier_int'] = df_final['marketcap_multiplier_int'].replace('B',1000000000)\n",
    "df_final['marketcap_multiplier_int'] = df_final['marketcap_multiplier_int'].replace('T',1000000000000)\n",
    "\n",
    "df_final['marketcap_multiplier_int'] = pd.to_numeric(df_final['marketcap_multiplier_int'])\n",
    "df_final['marketcap'] = pd.to_numeric(df_final['marketcap'])\n",
    "\n",
    "df_final['marketcap'] = df_final['marketcap'] * df_final['marketcap_multiplier_int']\n",
    "\n",
    "\n"
   ]
  },
  {
   "cell_type": "code",
   "execution_count": 11,
   "metadata": {},
   "outputs": [
    {
     "data": {
      "application/vnd.jupyter.widget-view+json": {
       "model_id": "50fec229fecf448c850fbad2698d632e",
       "version_major": 2,
       "version_minor": 0
      },
      "text/plain": [
       "Grid(columns_fit='auto', compress_data=True, export_mode='buttons', height='350px', menu={'buttons': [{'name':…"
      ]
     },
     "metadata": {},
     "output_type": "display_data"
    }
   ],
   "source": [
    "# Apply some filters\n",
    "df_final = df_final[df_final['zacks_consensus'] == 'Strong Buy']\n",
    "df_final = df_final[df_final['fool_rating'] == '5']\n",
    "\n",
    "# Slice some columns\n",
    "df_final = df_final.loc[:,['symbol', 'name','marketcap','ipoyear','sector','industry', 'marketcap_multiplier']]\n",
    "\n",
    "df_final['marketcap'] = df_final['marketcap'].fillna(10)\n",
    "df_final['sector'] = df_final['sector'].fillna('Unknown')\n",
    "\n",
    "\n",
    "df_final['marketcap_log'] = np.log10(df_final['marketcap'])\n",
    "\n",
    "\n",
    "# Display prefiltered view.\n",
    "make_aggrid(df_final)"
   ]
  },
  {
   "cell_type": "code",
   "execution_count": 12,
   "metadata": {},
   "outputs": [
    {
     "name": "stdout",
     "output_type": "stream",
     "text": [
      "['Transportation', 'Technology', 'Finance', 'Finance', 'Health Care', 'Health Care', 'Health Care', 'Health Care', 'Finance', 'Health Care', 'Consumer Durables', 'Technology']\n",
      "['Transportation', 'Technology', 'Finance', 'Finance', 'Health Care', 'Health Care', 'Health Care', 'Health Care', 'Finance', 'Health Care', 'Consumer Durables', 'Technology']\n"
     ]
    },
    {
     "data": {
      "image/png": "[encoded data removed]",
      "text/plain": [
       "<Figure size 432x288 with 1 Axes>"
      ]
     },
     "metadata": {
      "needs_background": "light"
     },
     "output_type": "display_data"
    },
    {
     "data": {
      "text/plain": [
       "<Figure size 432x288 with 0 Axes>"
      ]
     },
     "metadata": {},
     "output_type": "display_data"
    }
   ],
   "source": [
    "print(list(df_final['sector']))\n",
    "\n",
    "columns = [x for x in list(df_final['sector']) if str(x) != 'nan']\n",
    "\n",
    "print(columns)\n",
    "\n",
    "\n",
    "\n",
    "colors = ['red' for x in df_final['sector'] if x.find('Health') > 0]\n",
    "\n",
    "squarify.plot(sizes=df_final['marketcap'], label=df_final['sector'] + \"\\n\" + df_final['symbol'], alpha=.8 )\n",
    "plt.figure()\n",
    "    \n",
    "plt.show()"
   ]
  }
 ],
 "metadata": {
  "kernelspec": {
   "display_name": "Python 3",
   "language": "python",
   "name": "python3"
  },
  "language_info": {
   "codemirror_mode": {
    "name": "ipython",
    "version": 3
   },
   "file_extension": ".py",
   "mimetype": "text/x-python",
   "name": "python",
   "nbconvert_exporter": "python",
   "pygments_lexer": "ipython3",
   "version": "3.6.11"
  }
 },
 "nbformat": 4,
 "nbformat_minor": 2
}
